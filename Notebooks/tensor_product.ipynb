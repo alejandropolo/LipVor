{
 "cells": [
  {
   "cell_type": "markdown",
   "metadata": {},
   "source": [
    "## LIBRERIAS"
   ]
  },
  {
   "cell_type": "code",
   "execution_count": 1,
   "metadata": {},
   "outputs": [],
   "source": [
    "import numpy as np"
   ]
  },
  {
   "cell_type": "markdown",
   "metadata": {},
   "source": [
    "## CONTRACCIÓN A LO LARGO DEL EJE i"
   ]
  },
  {
   "cell_type": "markdown",
   "metadata": {},
   "source": [
    "En primer lugar, vamos a calcular la contracción a lo largo del eje i. Si consideramos la multiplicación de un tensor T 3D y una matrix W 2D, entonces es equivalente a segmentar el eje i del tensor en las matrices que lo componen y realizar la multiplicación de la matrix W por cada una de las submatrices que surgen del tensor. En primer lugar, vemos el primer caso que sería cuando el número de matrices en la dimensión i es solo uno y por lo tanto es la multiplicación usual"
   ]
  },
  {
   "cell_type": "code",
   "execution_count": 65,
   "metadata": {},
   "outputs": [
    {
     "name": "stdout",
     "output_type": "stream",
     "text": [
      "[[ 0 -5]\n",
      " [-2 -2]]\n",
      "[[ -8 -18]\n",
      " [  0  10]]\n",
      "[[ -8 -18]\n",
      " [  0  10]]\n"
     ]
    }
   ],
   "source": [
    "### MULTIPLICACIÓN POR LA IZQUIERDA -> 2 Dimensiones\n",
    "\n",
    "np.random.seed(0)\n",
    "arr1 = np.random.randint(-5, 5, (2, 2))\n",
    "arr2 = np.random.randint(-5, 5, (2, 2))\n",
    "\n",
    "print(arr1)\n",
    "\n",
    "result = np.einsum('lj,jk->lk', arr2, arr1)\n",
    "\n",
    "\n",
    "print(result)\n",
    "\n",
    "print(np.dot(arr2,arr1))"
   ]
  },
  {
   "cell_type": "markdown",
   "metadata": {},
   "source": [
    "Cuando no se trata de multiplicación de tensores en 2D, sino que uno de ellos es un tensor 3D, entonces el tensor resultante avanza en el eje i realizando multiplicaciones iguales a las que se tenian en el caso de la multiplicación de matrices"
   ]
  },
  {
   "cell_type": "code",
   "execution_count": 83,
   "metadata": {},
   "outputs": [
    {
     "name": "stdout",
     "output_type": "stream",
     "text": [
      "[[[ 0 -5]\n",
      "  [-2 -2]]\n",
      "\n",
      " [[ 2  4]\n",
      "  [-2  0]]]\n",
      "[[[  2  17]\n",
      "  [ -2 -12]]\n",
      "\n",
      " [[ -4 -12]\n",
      "  [  2   8]]]\n",
      "[[-2  5]\n",
      " [ 0 -4]]\n"
     ]
    }
   ],
   "source": [
    "### MULTIPLICACIÓN POR LA IZQUIERDA\n",
    "\n",
    "np.random.seed(0)\n",
    "arr1 = np.random.randint(-5, 5, (2, 2, 2))\n",
    "arr2 = np.random.randint(-5, 5, (2, 2))\n",
    "\n",
    "print(arr1)\n",
    "\n",
    "result = np.einsum('lj,ijk->ilk', arr2, arr1)\n",
    "\n",
    "\n",
    "print(result)\n",
    "\n",
    "print(np.dot(arr2,arr1[0,:,:])+np.dot(arr2,arr1[1,:,:]))"
   ]
  },
  {
   "cell_type": "code",
   "execution_count": 92,
   "metadata": {},
   "outputs": [
    {
     "name": "stdout",
     "output_type": "stream",
     "text": [
      "[[[-2  2]\n",
      "  [ 1 -3]]\n",
      "\n",
      " [[-2  0]\n",
      "  [ 1 -2]]]\n",
      "[[[ 0  2]\n",
      "  [-4  3]]\n",
      "\n",
      " [[-4  6]\n",
      "  [-2  1]]]\n",
      "[[[ 0  2]\n",
      "  [-4  3]]\n",
      "\n",
      " [[-4  6]\n",
      "  [-2  1]]]\n"
     ]
    }
   ],
   "source": [
    "### MULTIPLICACIÓN POR LA DERECHA\n",
    "\n",
    "np.random.seed(10)\n",
    "arr1 = np.random.randint(-3, 3, (2, 2, 2))\n",
    "arr2 = np.random.randint(-3, 3, (2, 2))\n",
    "\n",
    "print(arr1)\n",
    "\n",
    "result = np.einsum('ijk,kl->ijl', arr1, arr2)\n",
    "\n",
    "print(result)\n",
    "\n",
    "print(np.array([np.dot(arr1[0,:,:],arr2),np.dot(arr1[1,:,:],arr2)]))"
   ]
  },
  {
   "cell_type": "markdown",
   "metadata": {},
   "source": [
    "## CONTRACCION EN EL EJE J"
   ]
  },
  {
   "cell_type": "code",
   "execution_count": 85,
   "metadata": {},
   "outputs": [
    {
     "name": "stdout",
     "output_type": "stream",
     "text": [
      "[[[ 1  2]\n",
      "  [-3  0]]\n",
      "\n",
      " [[ 0  0]\n",
      "  [-2  0]]]\n",
      " -------  Cortes ej j  ------- \n",
      "\n",
      "[[1 2]\n",
      " [0 0]]\n",
      "[[-3  0]\n",
      " [-2  0]]\n",
      "------- Resultado  ------- \n",
      "\n",
      "[[[ 2  1]\n",
      "  [ 4  2]]\n",
      "\n",
      " [[-4  3]\n",
      "  [ 0  0]]]\n",
      "[[-2  4]\n",
      " [ 4  2]]\n"
     ]
    }
   ],
   "source": [
    "#### MULTIPLICACIÓN POR LA IZQUIERDA\n",
    "\n",
    "np.random.seed(0)\n",
    "arr1 = np.random.randint(-3, 3, (2, 2, 2))\n",
    "arr2 = np.random.randint(-3, 3, (2, 2))\n",
    "\n",
    "print(arr1)\n",
    "## Cortes ej j\n",
    "\n",
    "print(' -------  Cortes ej j  ------- \\n')\n",
    "print(arr1[:,0,:])\n",
    "print(arr1[:,1,:])\n",
    "\n",
    "## Cuando hago cortes las matrices que me quedan son del tipo ixk -> Por lo tanto contraigo el eje i de la matrix (tomando la matriz como lxi) con el eje i del tensor\n",
    "print('------- Resultado  ------- \\n')\n",
    "\n",
    "result = np.einsum('li,ijk->jkl', arr2, arr1)\n",
    "\n",
    "print(result)\n",
    "\n",
    "print(np.dot(arr2,arr1[:,0,:])+np.dot(arr2,arr1[:,1,:]))"
   ]
  },
  {
   "cell_type": "code",
   "execution_count": 86,
   "metadata": {},
   "outputs": [
    {
     "name": "stdout",
     "output_type": "stream",
     "text": [
      "[[[ 1  2]\n",
      "  [-3  0]]\n",
      "\n",
      " [[ 0  0]\n",
      "  [-2  0]]]\n",
      " -------  Cortes ej j  ------- \n",
      "\n",
      "[[1 2]\n",
      " [0 0]]\n",
      "[[-3  0]\n",
      " [-2  0]]\n",
      "------- Resultado  ------- \n",
      "\n",
      "[[[ 4 -7]\n",
      "  [ 0  0]]\n",
      "\n",
      " [[-6  3]\n",
      "  [-4  2]]]\n",
      "[[-2 -4]\n",
      " [-4  2]]\n"
     ]
    }
   ],
   "source": [
    "#### MULTIPLICACIÓN POR LA DERECHA\n",
    "\n",
    "np.random.seed(0)\n",
    "arr1 = np.random.randint(-3, 3, (2, 2, 2))\n",
    "arr2 = np.random.randint(-3, 3, (2, 2))\n",
    "\n",
    "print(arr1)\n",
    "\n",
    "## Cortes ej j\n",
    "\n",
    "print(' -------  Cortes ej j  ------- \\n')\n",
    "print(arr1[:,0,:])\n",
    "print(arr1[:,1,:])\n",
    "\n",
    "## Cuando hago cortes las matrices que me quedan son del tipo ixk -> Por lo tanto contraigo el eje k con el eje k de la matriz 2\n",
    "result = np.einsum('ijk,kl->jil', arr1, arr2)\n",
    "\n",
    "print('------- Resultado  ------- \\n')\n",
    "print(result)\n",
    "\n",
    "print(np.dot(arr1[:,0,:],arr2)+np.dot(arr1[:,1,:],arr2))"
   ]
  },
  {
   "cell_type": "markdown",
   "metadata": {},
   "source": [
    "## CONTRACCION EN EL EJE K"
   ]
  },
  {
   "cell_type": "code",
   "execution_count": 95,
   "metadata": {},
   "outputs": [
    {
     "name": "stdout",
     "output_type": "stream",
     "text": [
      "[[[ 1  2]\n",
      "  [-3  0]]\n",
      "\n",
      " [[ 0  0]\n",
      "  [-2  0]]]\n",
      " -------  Cortes ej j  ------- \n",
      "\n",
      "[[ 1 -3]\n",
      " [ 0 -2]]\n",
      "[[2 0]\n",
      " [0 0]]\n",
      "------- Resultado  ------- \n",
      "\n",
      "[[[ 2 -4]\n",
      "  [ 1  3]]\n",
      "\n",
      " [[ 4  0]\n",
      "  [ 2  0]]]\n",
      "[[[ 2 -4]\n",
      "  [ 1  3]]\n",
      "\n",
      " [[ 4  0]\n",
      "  [ 2  0]]]\n"
     ]
    }
   ],
   "source": [
    "#### MULTIPLICACIÓN POR LA IZQUIERDA\n",
    "\n",
    "np.random.seed(0)\n",
    "arr1 = np.random.randint(-3, 3, (2, 2, 2))\n",
    "arr2 = np.random.randint(-3, 3, (2, 2))\n",
    "\n",
    "print(arr1)\n",
    "## Cortes ej j\n",
    "\n",
    "print(' -------  Cortes ej k  ------- \\n')\n",
    "print(arr1[:,:,0])\n",
    "print(arr1[:,:,1])\n",
    "\n",
    "## Cuando hago cortes las matrices que me quedan son del tipo ixj -> Por lo tanto contraigo el eje i de la matrix (tomando la matriz como lxi) con el eje i del tensor\n",
    "print('------- Resultado  ------- \\n')\n",
    "\n",
    "result = np.einsum('li,ijk->klj', arr2, arr1)\n",
    "\n",
    "print(result)\n",
    "\n",
    "print(np.array([np.dot(arr2,arr1[:,:,0]),np.dot(arr2,arr1[:,:,1])]))"
   ]
  },
  {
   "cell_type": "code",
   "execution_count": 98,
   "metadata": {},
   "outputs": [
    {
     "name": "stdout",
     "output_type": "stream",
     "text": [
      "[[[ 1  2]\n",
      "  [-3  0]]\n",
      "\n",
      " [[ 0  0]\n",
      "  [-2  0]]]\n",
      " -------  Cortes ej j  ------- \n",
      "\n",
      "[[ 1 -3]\n",
      " [ 0 -2]]\n",
      "[[2 0]\n",
      " [0 0]]\n",
      "------- Resultado  ------- \n",
      "\n",
      "[[[-1  8]\n",
      "  [-2  6]]\n",
      "\n",
      " [[ 4 -2]\n",
      "  [ 0  0]]]\n",
      "[[[-1  8]\n",
      "  [-2  6]]\n",
      "\n",
      " [[ 4 -2]\n",
      "  [ 0  0]]]\n",
      "[[ 3  6]\n",
      " [-2  6]]\n"
     ]
    }
   ],
   "source": [
    "np.random.seed(0)\n",
    "arr1 = np.random.randint(-3, 3, (2, 2, 2))\n",
    "arr2 = np.random.randint(-3, 3, (2, 2))\n",
    "\n",
    "print(arr1)\n",
    "## Cortes ej j\n",
    "\n",
    "print(' -------  Cortes ej j  ------- \\n')\n",
    "print(arr1[:,:,0])\n",
    "print(arr1[:,:,1])\n",
    "\n",
    "print('------- Resultado  ------- \\n')\n",
    "\n",
    "# Cuando hago cortes las matrices que me quedan son del tipo ixj -> Por lo tanto contraigo el eje j del tensor con el eje j de la matriz 2\n",
    "result = np.einsum('ijk,jl->kil', arr1, arr2)\n",
    "\n",
    "print(result)\n",
    "\n",
    "print(np.array([np.dot(arr1[:,:,0],arr2),np.dot(arr1[:,:,1],arr2)]))\n",
    "print(np.dot(arr1[:,:,0],arr2)+np.dot(arr1[:,:,1],arr2))"
   ]
  },
  {
   "cell_type": "code",
   "execution_count": null,
   "metadata": {},
   "outputs": [],
   "source": []
  }
 ],
 "metadata": {
  "kernelspec": {
   "display_name": "pytorch",
   "language": "python",
   "name": "python3"
  },
  "language_info": {
   "codemirror_mode": {
    "name": "ipython",
    "version": 3
   },
   "file_extension": ".py",
   "mimetype": "text/x-python",
   "name": "python",
   "nbconvert_exporter": "python",
   "pygments_lexer": "ipython3",
   "version": "3.10.10"
  }
 },
 "nbformat": 4,
 "nbformat_minor": 2
}
